{
 "cells": [
  {
   "cell_type": "code",
   "execution_count": 39,
   "id": "initial_id",
   "metadata": {
    "collapsed": true,
    "ExecuteTime": {
     "end_time": "2024-01-09T13:37:53.951078200Z",
     "start_time": "2024-01-09T13:37:53.940107900Z"
    }
   },
   "outputs": [],
   "source": [
    "import pygame\n",
    "import pyautogui\n",
    "import time\n",
    "import  os"
   ]
  },
  {
   "cell_type": "code",
   "outputs": [
    {
     "name": "stdout",
     "output_type": "stream",
     "text": [
      "Обнаружено геймпадов: 1\n",
      "Геймпад 0: Logitech G27 Racing Wheel USB\n"
     ]
    }
   ],
   "source": [
    "pygame.init()\n",
    "\n",
    "# Инициализация геймпадов\n",
    "pygame.joystick.init()\n",
    "joystick_count = pygame.joystick.get_count()\n",
    "\n",
    "if joystick_count > 0:\n",
    "    print(f\"Обнаружено геймпадов: {joystick_count}\")\n",
    "\n",
    "    for i in range(joystick_count):\n",
    "        joystick = pygame.joystick.Joystick(i)\n",
    "        joystick.init()\n",
    "        print(f\"Геймпад {i}: {joystick.get_name()}\")\n",
    "else:\n",
    "    print(\"Геймпады не обнаружены\")\n",
    "\n",
    "# Завершение работы Pygame\n",
    "pygame.quit()"
   ],
   "metadata": {
    "collapsed": false,
    "ExecuteTime": {
     "end_time": "2024-01-09T12:25:44.994050200Z",
     "start_time": "2024-01-09T12:25:44.771644700Z"
    }
   },
   "id": "57ef83d0a8ef7168",
   "execution_count": 8
  },
  {
   "cell_type": "code",
   "outputs": [],
   "source": [
    "# Открытие файла для записи\n",
    "filename = \"геймпад_запись.txt\"\n",
    "with open(filename, 'w') as file:\n",
    "    try:\n",
    "        while True:\n",
    "            # Получение событий\n",
    "            pygame.event.pump()\n",
    "\n",
    "            # Получение состояния осей геймпада\n",
    "            axes = [joystick.get_axis(i) for i in range(joystick.get_numaxes())]\n",
    "\n",
    "            # Запись состояния осей в файл\n",
    "            file.write(str(axes) + '\\n')\n",
    "\n",
    "            # Создание скриншота и сохранение в файл\n",
    "            screenshot = pyautogui.screenshot()\n",
    "            screenshot.save(f\"cache/img_row/снимок_{time.time()}.png\")\n",
    "\n",
    "            # Задержка для записи событий с определенной частотой\n",
    "            time.sleep(1 / 15)\n",
    "\n",
    "    except KeyboardInterrupt:\n",
    "        # Закрытие файла и завершение программы при прерывании (например, по нажатию Ctrl+C)\n",
    "        file.close()\n",
    "        pygame.quit()"
   ],
   "metadata": {
    "collapsed": false
   },
   "id": "e1c11e8e24aa849d"
  },
  {
   "cell_type": "code",
   "outputs": [
    {
     "name": "stdout",
     "output_type": "stream",
     "text": [
      "[0.000640869140625, 0.999969482421875, 0.999969482421875, 0.0, 0.999969482421875]"
     ]
    },
    {
     "ename": "KeyboardInterrupt",
     "evalue": "",
     "output_type": "error",
     "traceback": [
      "\u001B[1;31m---------------------------------------------------------------------------\u001B[0m",
      "\u001B[1;31mKeyboardInterrupt\u001B[0m                         Traceback (most recent call last)",
      "Cell \u001B[1;32mIn[36], line 11\u001B[0m\n\u001B[0;32m      9\u001B[0m     data \u001B[38;5;241m=\u001B[39m [joystick\u001B[38;5;241m.\u001B[39mget_axis(i) \u001B[38;5;28;01mfor\u001B[39;00m i \u001B[38;5;129;01min\u001B[39;00m \u001B[38;5;28mrange\u001B[39m(joystick\u001B[38;5;241m.\u001B[39mget_numaxes())]\n\u001B[0;32m     10\u001B[0m     \u001B[38;5;28mprint\u001B[39m(\u001B[38;5;124mf\u001B[39m\u001B[38;5;124m'\u001B[39m\u001B[38;5;130;01m\\r\u001B[39;00m\u001B[38;5;132;01m{\u001B[39;00mdata\u001B[38;5;132;01m}\u001B[39;00m\u001B[38;5;124m'\u001B[39m, end\u001B[38;5;241m=\u001B[39m\u001B[38;5;124m\"\u001B[39m\u001B[38;5;124m\"\u001B[39m, flush\u001B[38;5;241m=\u001B[39m\u001B[38;5;28;01mTrue\u001B[39;00m)\n\u001B[1;32m---> 11\u001B[0m     \u001B[43mtime\u001B[49m\u001B[38;5;241;43m.\u001B[39;49m\u001B[43msleep\u001B[49m\u001B[43m(\u001B[49m\u001B[38;5;241;43m1\u001B[39;49m\u001B[43m)\u001B[49m\n\u001B[0;32m     13\u001B[0m \u001B[38;5;66;03m# Завершение работы Pygame\u001B[39;00m\n\u001B[0;32m     14\u001B[0m pygame\u001B[38;5;241m.\u001B[39mquit()\n",
      "\u001B[1;31mKeyboardInterrupt\u001B[0m: "
     ]
    }
   ],
   "source": [
    "pygame.init()\n",
    "\n",
    "# Инициализация геймпада\n",
    "pygame.joystick.init()\n",
    "joystick = pygame.joystick.Joystick(0)\n",
    "joystick.init()\n",
    "\n",
    "while True:\n",
    "    data = [joystick.get_axis(i) for i in range(joystick.get_numaxes())]\n",
    "    print(f'\\r{data}', end=\"\", flush=True)\n",
    "    time.sleep(1)\n",
    "\n",
    "# Завершение работы Pygame\n",
    "pygame.quit()"
   ],
   "metadata": {
    "collapsed": false,
    "ExecuteTime": {
     "end_time": "2024-01-09T13:21:55.920577900Z",
     "start_time": "2024-01-09T13:21:50.901455600Z"
    }
   },
   "id": "31af6bde55ae9a6b",
   "execution_count": 36
  },
  {
   "cell_type": "code",
   "outputs": [
    {
     "name": "stdout",
     "output_type": "stream",
     "text": [
      "Название геймпада: Logitech G27 Racing Wheel USB\n",
      "Количество осей: 5\n",
      "Количество кнопок: 23\n",
      "Количество хатов: 1\n",
      "Количество треггеров: 1\n"
     ]
    }
   ],
   "source": [
    "import pygame\n",
    "\n",
    "# Инициализация Pygame\n",
    "pygame.init()\n",
    "\n",
    "# Инициализация геймпада\n",
    "pygame.joystick.init()\n",
    "joystick = pygame.joystick.Joystick(0)\n",
    "joystick.init()\n",
    "\n",
    "# Вывод информации о геймпаде\n",
    "print(f\"Название геймпада: {joystick.get_name()}\")\n",
    "print(f\"Количество осей: {joystick.get_numaxes()}\")\n",
    "print(f\"Количество кнопок: {joystick.get_numbuttons()}\")\n",
    "print(f\"Количество хатов: {joystick.get_numhats()}\")\n",
    "print(f\"Количество треггеров: {joystick.get_numhats()}\")\n",
    "\n",
    "# Завершение работы Pygame\n",
    "pygame.quit()\n"
   ],
   "metadata": {
    "collapsed": false,
    "ExecuteTime": {
     "end_time": "2024-01-09T12:34:06.633512600Z",
     "start_time": "2024-01-09T12:34:06.564193500Z"
    }
   },
   "id": "a989b61fd4b54630",
   "execution_count": 17
  },
  {
   "cell_type": "code",
   "outputs": [
    {
     "name": "stdout",
     "output_type": "stream",
     "text": [
      "Ось 0: 0.00 | Ось 1: 1.00 | Ось 2: 1.00 | Ось 3: 0.00 | Ось 4: 1.00 |    "
     ]
    },
    {
     "ename": "KeyboardInterrupt",
     "evalue": "",
     "output_type": "error",
     "traceback": [
      "\u001B[1;31m---------------------------------------------------------------------------\u001B[0m",
      "\u001B[1;31mKeyboardInterrupt\u001B[0m                         Traceback (most recent call last)",
      "Cell \u001B[1;32mIn[37], line 23\u001B[0m\n\u001B[0;32m     21\u001B[0m         string \u001B[38;5;241m+\u001B[39m\u001B[38;5;241m=\u001B[39m \u001B[38;5;124mf\u001B[39m\u001B[38;5;124m\"\u001B[39m\u001B[38;5;124mОсь \u001B[39m\u001B[38;5;132;01m{\u001B[39;00mi\u001B[38;5;132;01m}\u001B[39;00m\u001B[38;5;124m: \u001B[39m\u001B[38;5;132;01m{\u001B[39;00maxis_values[i]\u001B[38;5;132;01m:\u001B[39;00m\u001B[38;5;124m.2f\u001B[39m\u001B[38;5;132;01m}\u001B[39;00m\u001B[38;5;124m | \u001B[39m\u001B[38;5;124m\"\u001B[39m\n\u001B[0;32m     22\u001B[0m     \u001B[38;5;28mprint\u001B[39m(\u001B[38;5;124mf\u001B[39m\u001B[38;5;124m'\u001B[39m\u001B[38;5;130;01m\\r\u001B[39;00m\u001B[38;5;132;01m{\u001B[39;00mstring\u001B[38;5;132;01m}\u001B[39;00m\u001B[38;5;124m'\u001B[39m, end\u001B[38;5;241m=\u001B[39m\u001B[38;5;124m\"\u001B[39m\u001B[38;5;124m\"\u001B[39m, flush\u001B[38;5;241m=\u001B[39m\u001B[38;5;28;01mTrue\u001B[39;00m)\n\u001B[1;32m---> 23\u001B[0m     \u001B[43mtime\u001B[49m\u001B[38;5;241;43m.\u001B[39;49m\u001B[43msleep\u001B[49m\u001B[43m(\u001B[49m\u001B[38;5;241;43m0.1\u001B[39;49m\u001B[43m)\u001B[49m\n\u001B[0;32m     25\u001B[0m \u001B[38;5;66;03m# Завершение работы Pygame\u001B[39;00m\n\u001B[0;32m     26\u001B[0m pygame\u001B[38;5;241m.\u001B[39mquit()\n",
      "\u001B[1;31mKeyboardInterrupt\u001B[0m: "
     ]
    }
   ],
   "source": [
    "import pygame\n",
    "import time\n",
    "\n",
    "# Инициализация Pygame\n",
    "pygame.init()\n",
    "\n",
    "# Инициализация геймпада\n",
    "pygame.joystick.init()\n",
    "joystick = pygame.joystick.Joystick(0)\n",
    "joystick.init()\n",
    "\n",
    "# Получение количества осей\n",
    "num_axes = joystick.get_numaxes()\n",
    "\n",
    "while True:\n",
    "    pygame.event.pump()\n",
    "    # Получение текущих значений каждой оси\n",
    "    axis_values = [joystick.get_axis(i) for i in range(num_axes)]\n",
    "    string = ''\n",
    "    for i in range(num_axes):\n",
    "        string += f\"Ось {i}: {axis_values[i]:.2f} | \"\n",
    "    print(f'\\r{string}', end=\"\", flush=True)\n",
    "    time.sleep(0.1)\n",
    "\n",
    "# Завершение работы Pygame\n",
    "pygame.quit()"
   ],
   "metadata": {
    "collapsed": false,
    "ExecuteTime": {
     "end_time": "2024-01-09T13:23:03.256823800Z",
     "start_time": "2024-01-09T13:22:02.165779300Z"
    }
   },
   "id": "204892ec4d5f9f55",
   "execution_count": 37
  },
  {
   "cell_type": "code",
   "outputs": [
    {
     "data": {
      "text/plain": "['joystick.ipynb', 'logger_joystick.py', 'screenshot.png']"
     },
     "execution_count": 40,
     "metadata": {},
     "output_type": "execute_result"
    }
   ],
   "source": [
    "os.listdir('../logger')"
   ],
   "metadata": {
    "collapsed": false,
    "ExecuteTime": {
     "end_time": "2024-01-09T13:37:58.955243700Z",
     "start_time": "2024-01-09T13:37:58.935298800Z"
    }
   },
   "id": "a1193f1c775ac7e",
   "execution_count": 40
  }
 ],
 "metadata": {
  "kernelspec": {
   "display_name": "Python 3",
   "language": "python",
   "name": "python3"
  },
  "language_info": {
   "codemirror_mode": {
    "name": "ipython",
    "version": 2
   },
   "file_extension": ".py",
   "mimetype": "text/x-python",
   "name": "python",
   "nbconvert_exporter": "python",
   "pygments_lexer": "ipython2",
   "version": "2.7.6"
  }
 },
 "nbformat": 4,
 "nbformat_minor": 5
}
