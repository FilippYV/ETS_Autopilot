{
 "cells": [
  {
   "cell_type": "code",
   "execution_count": 3,
   "metadata": {},
   "outputs": [],
   "source": [
    "import tensorflow as tf\n",
    "from tensorflow.keras import layers\n",
    "from tensorflow.keras.models import Sequential\n",
    "from tensorflow.keras.callbacks import ModelCheckpoint"
   ]
  },
  {
   "cell_type": "markdown",
   "metadata": {},
   "source": [
    "Подготовка данных для resnet"
   ]
  },
  {
   "cell_type": "code",
   "execution_count": null,
   "metadata": {},
   "outputs": [],
   "source": []
  },
  {
   "cell_type": "code",
   "execution_count": null,
   "metadata": {},
   "outputs": [],
   "source": [
    "X_tra"
   ]
  },
  {
   "cell_type": "markdown",
   "metadata": {},
   "source": [
    "Модель resnet"
   ]
  },
  {
   "cell_type": "code",
   "execution_count": 1,
   "metadata": {},
   "outputs": [
    {
     "name": "stdout",
     "output_type": "stream",
     "text": [
      "Downloading data from https://storage.googleapis.com/tensorflow/keras-applications/resnet/resnet50_weights_tf_dim_ordering_tf_kernels_notop.h5\n",
      "94765736/94765736 [==============================] - 4s 0us/step\n"
     ]
    }
   ],
   "source": [
    "\n",
    "# Создание модели ResNet\n",
    "def build_resnet(input_shape=(224, 224, 3), num_classes=2):\n",
    "    base_model = tf.keras.applications.ResNet50(weights='imagenet', include_top=False, input_shape=input_shape)\n",
    "\n",
    "    # Замораживаем веса базовой модели\n",
    "    base_model.trainable = False\n",
    "\n",
    "    model = Sequential([\n",
    "        base_model,\n",
    "        layers.GlobalAveragePooling2D(),\n",
    "        layers.Dense(num_classes, activation='softmax')\n",
    "    ])\n",
    "\n",
    "    return model\n",
    "\n",
    "# Замените 'input_shape' и 'num_classes' в зависимости от ваших требований\n",
    "model = build_resnet(input_shape=(1240, 720, 3), num_classes=2)\n",
    "\n",
    "# Компиляция модели\n",
    "model.compile(optimizer='adam', loss='sparse_categorical_crossentropy', metrics=['accuracy'])\n",
    "\n",
    "# # Обучение модели на вашем наборе данных с дорожной разметкой\n",
    "# # (Вам также нужно подготовить данные для обучения)\n",
    "\n",
    "# # Генерация последовательности движений джойстика на основе предсказаний модели\n",
    "# def generate_joystick_movements(image):\n",
    "#     # Ваш код для предсказания дорожной разметки на изображении\n",
    "#     predictions = model.predict(image)\n",
    "    \n",
    "#     # Ваш код для генерации последовательности движений джойстика на основе предсказаний\n",
    "#     # (Это зависит от того, как у вас устроена задача управления машиной)\n",
    "\n",
    "#     return joystick_movements\n",
    "\n",
    "# # Пример использования\n",
    "# # (Предполагается, что у вас есть изображение для обработки)\n",
    "# image = ...  # Ваше изображение\n",
    "# joystick_movements = generate_joystick_movements(image)\n",
    "# print(\"Joystick Movements:\", joystick_movements)\n"
   ]
  },
  {
   "cell_type": "code",
   "execution_count": 8,
   "metadata": {},
   "outputs": [],
   "source": [
    "checkpoint = ModelCheckpoint('/cache/checkpoints/model_checkpoint_CNN.h5',\n",
    "                            monitor='val_accuracy',\n",
    "                            save_best_only=True,\n",
    "                            mode='max')"
   ]
  },
  {
   "cell_type": "code",
   "execution_count": null,
   "metadata": {},
   "outputs": [],
   "source": [
    "history = model.fit(X_train, y_train,\n",
    "                    epochs=10,\n",
    "                    batch_size=500,\n",
    "                    validation_data=(X_test, y_test),\n",
    "                    callbacks=[checkpoint])"
   ]
  }
 ],
 "metadata": {
  "kernelspec": {
   "display_name": ".env",
   "language": "python",
   "name": "python3"
  },
  "language_info": {
   "codemirror_mode": {
    "name": "ipython",
    "version": 3
   },
   "file_extension": ".py",
   "mimetype": "text/x-python",
   "name": "python",
   "nbconvert_exporter": "python",
   "pygments_lexer": "ipython3",
   "version": "3.10.0"
  }
 },
 "nbformat": 4,
 "nbformat_minor": 2
}
