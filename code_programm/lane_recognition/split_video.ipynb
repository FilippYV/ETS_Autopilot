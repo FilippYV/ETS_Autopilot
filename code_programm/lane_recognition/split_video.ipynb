{
 "cells": [
  {
   "cell_type": "code",
   "outputs": [],
   "source": [
    "import os\n",
    "import time\n",
    "\n",
    "import cv2"
   ],
   "metadata": {
    "collapsed": false,
    "ExecuteTime": {
     "end_time": "2024-02-29T12:51:37.021764Z",
     "start_time": "2024-02-29T12:51:37.016761800Z"
    }
   },
   "id": "a53d3396597e6628",
   "execution_count": 8
  },
  {
   "cell_type": "code",
   "outputs": [],
   "source": [
    "# Путь к видеофайлу\n",
    "video_path = r'C:\\PycharmProjects\\ETS_Autopilot\\static\\settings_cache\\cropped_video_2.mp4'\n",
    "\n",
    "# Папка для сохранения кадров\n",
    "output_folder = r'C:\\PycharmProjects\\ETS_Autopilot\\static\\settings_cache\\frames'\n",
    "os.makedirs(output_folder, exist_ok=True)\n",
    "\n",
    "# Загрузка видеофайла\n",
    "cap = cv2.VideoCapture(video_path)\n",
    "\n",
    "# Счетчик кадров\n",
    "frame_count = 0\n",
    "\n",
    "# Чтение и сохранение каждого 15-го кадра\n",
    "while True:\n",
    "    ret, frame = cap.read()\n",
    "    if not ret:\n",
    "        break\n",
    "\n",
    "    # Сохраняем каждый 15-й кадр\n",
    "    if frame_count % 60 == 0:\n",
    "        frame_path = os.path.join(output_folder, f'frame_{time.time()}.jpg')\n",
    "        cv2.imwrite(frame_path, frame)\n",
    "\n",
    "    # Увеличиваем счетчик кадров\n",
    "    frame_count += 1\n",
    "\n",
    "# Закрытие видеофайла\n",
    "cap.release()"
   ],
   "metadata": {
    "collapsed": false,
    "ExecuteTime": {
     "end_time": "2024-02-29T12:51:38.799800200Z",
     "start_time": "2024-02-29T12:51:37.406025900Z"
    }
   },
   "id": "92af0baae3cd20c1",
   "execution_count": 9
  },
  {
   "cell_type": "code",
   "outputs": [],
   "source": [],
   "metadata": {
    "collapsed": false
   },
   "id": "2664b83686bacfdd"
  }
 ],
 "metadata": {
  "kernelspec": {
   "display_name": "Python 3",
   "language": "python",
   "name": "python3"
  },
  "language_info": {
   "codemirror_mode": {
    "name": "ipython",
    "version": 2
   },
   "file_extension": ".py",
   "mimetype": "text/x-python",
   "name": "python",
   "nbconvert_exporter": "python",
   "pygments_lexer": "ipython2",
   "version": "2.7.6"
  }
 },
 "nbformat": 4,
 "nbformat_minor": 5
}
