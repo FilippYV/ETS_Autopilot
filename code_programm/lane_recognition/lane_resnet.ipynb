{
 "cells": [
  {
   "cell_type": "code",
   "execution_count": 6,
   "id": "initial_id",
   "metadata": {
    "collapsed": true,
    "ExecuteTime": {
     "end_time": "2024-01-09T16:13:39.417879400Z",
     "start_time": "2024-01-09T16:13:39.356045300Z"
    }
   },
   "outputs": [],
   "source": [
    "import tensorflow as tf\n",
    "import cv2"
   ]
  },
  {
   "cell_type": "code",
   "outputs": [
    {
     "data": {
      "text/plain": "[PhysicalDevice(name='/physical_device:CPU:0', device_type='CPU'),\n PhysicalDevice(name='/physical_device:GPU:0', device_type='GPU')]"
     },
     "execution_count": 3,
     "metadata": {},
     "output_type": "execute_result"
    }
   ],
   "source": [
    "tf.config.list_physical_devices()"
   ],
   "metadata": {
    "collapsed": false,
    "ExecuteTime": {
     "end_time": "2024-01-09T16:00:48.920271100Z",
     "start_time": "2024-01-09T16:00:48.902319100Z"
    }
   },
   "id": "ead417dd1c30692e",
   "execution_count": 3
  },
  {
   "cell_type": "code",
   "outputs": [
    {
     "name": "stdout",
     "output_type": "stream",
     "text": [
      "Ширина: 805, Высота: 564\n"
     ]
    }
   ],
   "source": [
    "image_path = 'C:\\PycharmProjects\\ETS_Autopilot\\\\app\\static\\settings_cache\\\\img.png'\n",
    "\n",
    "# Чтение изображения с помощью OpenCV\n",
    "img = cv2.imread(image_path)\n",
    "\n",
    "# Получение размеров изображения\n",
    "height, width, _ = img.shape\n",
    "\n",
    "# Вывод размеров\n",
    "print(f\"Ширина: {width}, Высота: {height}\")"
   ],
   "metadata": {
    "collapsed": false,
    "ExecuteTime": {
     "end_time": "2024-01-09T16:19:28.721689100Z",
     "start_time": "2024-01-09T16:19:28.701742400Z"
    }
   },
   "id": "79184e2da074df80",
   "execution_count": 8
  },
  {
   "cell_type": "markdown",
   "source": [
    "#   Ширина: 800\n",
    "#   Высота: 600"
   ],
   "metadata": {
    "collapsed": false
   },
   "id": "bd73d1d101135ed1"
  },
  {
   "cell_type": "code",
   "outputs": [],
   "source": [
    "import tensorflow as tf\n",
    "from tensorflow.keras.layers import Input, Conv2D, BatchNormalization, ReLU, MaxPooling2D, GlobalAveragePooling2D, Dense, Add\n",
    "from tensorflow.keras.models import Model\n",
    "\n",
    "def convolutional_block(x, filters, strides=1):\n",
    "    shortcut = x\n",
    "    # 1x1 convolution\n",
    "    x = Conv2D(filters, kernel_size=(1, 1), strides=strides)(x)\n",
    "    x = BatchNormalization()(x)\n",
    "    x = ReLU()(x)\n",
    "    # 3x3 convolution\n",
    "    x = Conv2D(filters, kernel_size=(3, 3), padding='same')(x)\n",
    "    x = BatchNormalization()(x)\n",
    "    x = ReLU()(x)\n",
    "    # 1x1 convolution\n",
    "    x = Conv2D(4 * filters, kernel_size=(1, 1))(x)\n",
    "    x = BatchNormalization()(x)\n",
    "    # Shortcut\n",
    "    shortcut = Conv2D(4 * filters, kernel_size=(1, 1), strides=strides)(shortcut)\n",
    "    shortcut = BatchNormalization()(shortcut)\n",
    "    # Add the shortcut value to the main path\n",
    "    x = Add()([x, shortcut])\n",
    "    x = ReLU()(x)\n",
    "    return x\n",
    "\n",
    "def identity_block(x, filters):\n",
    "    shortcut = x\n",
    "    # 1x1 convolution\n",
    "    x = Conv2D(filters, kernel_size=(1, 1))(x)\n",
    "    x = BatchNormalization()(x)\n",
    "    x = ReLU()(x)\n",
    "    # 3x3 convolution\n",
    "    x = Conv2D(filters, kernel_size=(3, 3), padding='same')(x)\n",
    "    x = BatchNormalization()(x)\n",
    "    x = ReLU()(x)\n",
    "    # 1x1 convolution\n",
    "    x = Conv2D(4 * filters, kernel_size=(1, 1))(x)\n",
    "    x = BatchNormalization()(x)\n",
    "    # Add the shortcut value to the main path\n",
    "    x = Add()([x, shortcut])\n",
    "    x = ReLU()(x)\n",
    "    return x\n",
    "\n",
    "def resnet_101(input_shape, num_classes):\n",
    "    input_data = Input(shape=input_shape)\n",
    "    # Initial convolutional layer\n",
    "    x = Conv2D(64, kernel_size=(7, 7), strides=(2, 2), padding='same')(input_data)\n",
    "    x = BatchNormalization()(x)\n",
    "    x = ReLU()(x)\n",
    "    x = MaxPooling2D(pool_size=(3, 3), strides=(2, 2), padding='same')(x)\n",
    "\n",
    "    # Residual blocks\n",
    "    x = convolutional_block(x, filters=64)\n",
    "    x = identity_block(x, filters=64)\n",
    "    x = identity_block(x, filters=64)\n",
    "\n",
    "    x = convolutional_block(x, filters=128, strides=2)\n",
    "    x = identity_block(x, filters=128)\n",
    "    x = identity_block(x, filters=128)\n",
    "    x = identity_block(x, filters=128)\n",
    "\n",
    "    x = convolutional_block(x, filters=256, strides=2)\n",
    "    for _ in range(22):\n",
    "        x = identity_block(x, filters=256)\n",
    "\n",
    "    x = convolutional_block(x, filters=512, strides=2)\n",
    "    x = identity_block(x, filters=512)\n",
    "    x = identity_block(x, filters=512)\n",
    "    x = GlobalAveragePooling2D()(x)\n",
    "\n",
    "    # Dense layer for classification\n",
    "    x = Dense(num_classes, activation='softmax')(x)\n",
    "\n",
    "    model = Model(inputs=input_data, outputs=x)\n",
    "    return model\n",
    "\n",
    "# Create ResNet-101 model\n",
    "input_shape = (800, 600, 3)\n",
    "num_classes = 1  # Number of output classes\n",
    "model = resnet_101(input_shape, num_classes)\n",
    "\n",
    "# Display model summary\n",
    "model.summary()\n"
   ],
   "metadata": {
    "collapsed": false
   },
   "id": "14828a0ba000ae95"
  }
 ],
 "metadata": {
  "kernelspec": {
   "display_name": "Python 3",
   "language": "python",
   "name": "python3"
  },
  "language_info": {
   "codemirror_mode": {
    "name": "ipython",
    "version": 2
   },
   "file_extension": ".py",
   "mimetype": "text/x-python",
   "name": "python",
   "nbconvert_exporter": "python",
   "pygments_lexer": "ipython2",
   "version": "2.7.6"
  }
 },
 "nbformat": 4,
 "nbformat_minor": 5
}
