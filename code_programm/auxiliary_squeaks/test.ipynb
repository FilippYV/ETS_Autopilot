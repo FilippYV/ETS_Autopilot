{
 "cells": [
  {
   "cell_type": "code",
   "execution_count": 2,
   "id": "initial_id",
   "metadata": {
    "collapsed": true,
    "ExecuteTime": {
     "end_time": "2024-02-29T23:48:26.278962600Z",
     "start_time": "2024-02-29T23:48:21.200620Z"
    }
   },
   "outputs": [],
   "source": [
    "import cv2\n",
    "import torch\n",
    "from ultralytics import YOLO\n",
    "import numpy as np\n",
    "\n",
    "from code_programm.path import get_path_weight_model\n"
   ]
  },
  {
   "cell_type": "code",
   "outputs": [
    {
     "name": "stdout",
     "output_type": "stream",
     "text": [
      "1\n",
      "NVIDIA GeForce GTX 1080 Ti\n"
     ]
    }
   ],
   "source": [
    "print(torch.cuda.device_count())\n",
    "print(torch.cuda.get_device_name())"
   ],
   "metadata": {
    "collapsed": false,
    "ExecuteTime": {
     "end_time": "2024-02-29T23:48:26.311963400Z",
     "start_time": "2024-02-29T23:48:26.280964300Z"
    }
   },
   "id": "ebe05c212dd36e52",
   "execution_count": 3
  },
  {
   "cell_type": "code",
   "outputs": [
    {
     "name": "stdout",
     "output_type": "stream",
     "text": [
      "0: 512x512 3 markups, 2 markup_lines, 8.0ms\n",
      "Speed: 4.0ms preprocess, 8.0ms inference, 415.0ms postprocess per image at shape (1, 3, 512, 512)\n"
     ]
    }
   ],
   "source": [
    "model = YOLO(get_path_weight_model('best_v2_n.pt'))\n",
    "\n",
    "img = cv2.imread(r'C:\\PycharmProjects\\ETS_Autopilot\\static\\settings_cache\\1708818112.041754.png')\n",
    "results = model(img)\n"
   ],
   "metadata": {
    "collapsed": false,
    "ExecuteTime": {
     "end_time": "2024-02-29T23:48:27.861043500Z",
     "start_time": "2024-02-29T23:48:26.310963100Z"
    }
   },
   "id": "28a58429d161940c",
   "execution_count": 4
  },
  {
   "cell_type": "code",
   "outputs": [],
   "source": [
    "# Получение классов и имен классов\n",
    "classes = results[0].boxes.cls.cpu().numpy()\n",
    "class_names = results[0].names\n",
    "\n",
    "# Получение бинарных масок и их количество\n",
    "masks = results[0].masks.data  # Формат: [число масок, высота, ширина]\n",
    "num_masks = masks.shape[0]\n",
    "\n",
    "\n",
    "# Создание изображения для отображения масок\n",
    "mask_overlay = np.zeros_like(img)\n",
    "\n",
    "labeled_image = img.copy()"
   ],
   "metadata": {
    "collapsed": false,
    "ExecuteTime": {
     "end_time": "2024-02-29T23:48:27.868226700Z",
     "start_time": "2024-02-29T23:48:27.861043500Z"
    }
   },
   "id": "af86f95379648126",
   "execution_count": 5
  },
  {
   "cell_type": "code",
   "outputs": [
    {
     "data": {
      "text/plain": "5"
     },
     "execution_count": 6,
     "metadata": {},
     "output_type": "execute_result"
    }
   ],
   "source": [
    "num_masks"
   ],
   "metadata": {
    "collapsed": false,
    "ExecuteTime": {
     "end_time": "2024-02-29T23:48:27.884748500Z",
     "start_time": "2024-02-29T23:48:27.867228Z"
    }
   },
   "id": "4d2d868a0441b619",
   "execution_count": 6
  },
  {
   "cell_type": "code",
   "outputs": [],
   "source": [
    "# Добавление подписей к маскам\n",
    "for i in range(num_masks):\n",
    "    mask = masks[i].cpu()\n",
    "\n",
    "    # Изменение размера маски до размеров исходного изображения с использованием метода ближайших соседей\n",
    "    mask_resized = cv2.resize(np.array(mask), (img.shape[1], img.shape[0]), interpolation=cv2.INTER_NEAREST)\n",
    "\n",
    "    print(mask_resized)\n",
    "\n",
    "    # Получение класса для текущей маски\n",
    "    class_index = int(classes[i])\n",
    "    class_name = class_names[class_index]\n",
    "\n",
    "\n"
   ],
   "metadata": {
    "collapsed": false
   },
   "id": "9f352a2c10836b7b"
  }
 ],
 "metadata": {
  "kernelspec": {
   "display_name": "Python 3",
   "language": "python",
   "name": "python3"
  },
  "language_info": {
   "codemirror_mode": {
    "name": "ipython",
    "version": 2
   },
   "file_extension": ".py",
   "mimetype": "text/x-python",
   "name": "python",
   "nbconvert_exporter": "python",
   "pygments_lexer": "ipython2",
   "version": "2.7.6"
  }
 },
 "nbformat": 4,
 "nbformat_minor": 5
}
