{
 "cells": [
  {
   "cell_type": "code",
   "outputs": [],
   "source": [
    "import os\n",
    "import time\n",
    "\n",
    "import cv2"
   ],
   "metadata": {
    "collapsed": false,
    "ExecuteTime": {
     "end_time": "2024-02-29T17:30:57.818944500Z",
     "start_time": "2024-02-29T17:30:57.575796500Z"
    }
   },
   "id": "a53d3396597e6628",
   "execution_count": 1
  },
  {
   "cell_type": "code",
   "outputs": [],
   "source": [
    "import cv2\n",
    "\n",
    "# Define the cropping dimensions\n",
    "left = 710\n",
    "top = 230 - 100\n",
    "width = 512\n",
    "height = 512\n",
    "\n",
    "# Define input and output video paths\n",
    "input_video_path = r'C:\\PycharmProjects\\ETS_Autopilot\\static\\settings_cache\\Euro Truck Simulator 2 2024.01.23 - 02.53.09.04.DVR.mp4'\n",
    "output_video_path = r'C:\\PycharmProjects\\ETS_Autopilot\\static\\settings_cache\\cropped_video_4.mp4'\n",
    "\n",
    "# Open the input video file\n",
    "cap = cv2.VideoCapture(input_video_path)\n",
    "\n",
    "# Get the video properties\n",
    "fps = int(cap.get(cv2.CAP_PROP_FPS))\n",
    "frame_width = int(cap.get(cv2.CAP_PROP_FRAME_WIDTH))\n",
    "frame_height = int(cap.get(cv2.CAP_PROP_FRAME_HEIGHT))\n",
    "\n",
    "# Define the codec and create VideoWriter object\n",
    "fourcc = cv2.VideoWriter_fourcc(*'mp4v')\n",
    "out = cv2.VideoWriter(output_video_path, fourcc, fps, (width, height))\n",
    "\n",
    "# Process each frame and crop it\n",
    "while True:\n",
    "    ret, frame = cap.read()\n",
    "    if not ret:\n",
    "        break\n",
    "\n",
    "    # Crop the frame\n",
    "    cropped_frame = frame[top:top + height, left:left + width]\n",
    "\n",
    "    # Write the cropped frame to the output video\n",
    "    out.write(cropped_frame)\n",
    "\n",
    "# Release the video capture and writer objects\n",
    "cap.release()\n",
    "out.release()\n",
    "\n",
    "# Close all OpenCV windows\n",
    "cv2.destroyAllWindows()"
   ],
   "metadata": {
    "collapsed": false,
    "ExecuteTime": {
     "end_time": "2024-02-29T17:33:12.868589500Z",
     "start_time": "2024-02-29T17:30:59.729310700Z"
    }
   },
   "id": "f6f010850bb8f60",
   "execution_count": 2
  },
  {
   "cell_type": "code",
   "outputs": [],
   "source": [
    "# Путь к видеофайлу\n",
    "video_path = r'C:\\PycharmProjects\\ETS_Autopilot\\static\\settings_cache\\cropped_video_3.mp4'\n",
    "\n",
    "# Папка для сохранения кадров\n",
    "output_folder = r'C:\\PycharmProjects\\ETS_Autopilot\\static\\settings_cache\\frames'\n",
    "os.makedirs(output_folder, exist_ok=True)\n",
    "\n",
    "# Загрузка видеофайла\n",
    "cap = cv2.VideoCapture(video_path)\n",
    "\n",
    "# Счетчик кадров\n",
    "frame_count = 0\n",
    "\n",
    "# Чтение и сохранение каждого 15-го кадра\n",
    "while True:\n",
    "    ret, frame = cap.read()\n",
    "    if not ret:\n",
    "        break\n",
    "\n",
    "    # Сохраняем каждый 15-й кадр\n",
    "    if frame_count % 120 == 0:\n",
    "        frame_path = os.path.join(output_folder, f'frame_{time.time()}.jpg')\n",
    "        cv2.imwrite(frame_path, frame)\n",
    "\n",
    "    # Увеличиваем счетчик кадров\n",
    "    frame_count += 1\n",
    "\n",
    "# Закрытие видеофайла\n",
    "cap.release()"
   ],
   "metadata": {
    "collapsed": false,
    "ExecuteTime": {
     "end_time": "2024-02-29T14:39:24.880762Z",
     "start_time": "2024-02-29T14:39:21.117747400Z"
    }
   },
   "id": "92af0baae3cd20c1",
   "execution_count": 8
  },
  {
   "cell_type": "code",
   "outputs": [],
   "source": [],
   "metadata": {
    "collapsed": false
   },
   "id": "309479801410eb9b"
  }
 ],
 "metadata": {
  "kernelspec": {
   "display_name": "Python 3",
   "language": "python",
   "name": "python3"
  },
  "language_info": {
   "codemirror_mode": {
    "name": "ipython",
    "version": 2
   },
   "file_extension": ".py",
   "mimetype": "text/x-python",
   "name": "python",
   "nbconvert_exporter": "python",
   "pygments_lexer": "ipython2",
   "version": "2.7.6"
  }
 },
 "nbformat": 4,
 "nbformat_minor": 5
}
