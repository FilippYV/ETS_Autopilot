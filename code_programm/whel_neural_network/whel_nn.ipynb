{
 "cells": [
  {
   "cell_type": "code",
   "execution_count": 1,
   "id": "initial_id",
   "metadata": {
    "collapsed": true,
    "ExecuteTime": {
     "end_time": "2024-03-28T02:13:37.132435900Z",
     "start_time": "2024-03-28T02:13:34.253795500Z"
    }
   },
   "outputs": [],
   "source": [
    "import pandas as pd\n",
    "import torch\n",
    "import torch.nn as nn\n",
    "import torch.optim as optim"
   ]
  },
  {
   "cell_type": "code",
   "outputs": [],
   "source": [
    "class FullyConnectedNN(nn.Module):\n",
    "    def __init__(self, input_size=16384, hidden_size=512, output_size=1):\n",
    "        super(FullyConnectedNN, self).__init__()\n",
    "        self.fc1 = nn.Linear(input_size, hidden_size)\n",
    "        self.fc2 = nn.Linear(hidden_size, output_size)\n",
    "        self.tanh = nn.Tanh()\n",
    "    \n",
    "    def forward(self, x):\n",
    "        out = self.fc1(x)\n",
    "        out = self.tanh(out)\n",
    "        out = self.fc2(out)\n",
    "        out = self.tanh(out)\n",
    "        return out"
   ],
   "metadata": {
    "collapsed": false,
    "ExecuteTime": {
     "end_time": "2024-03-28T02:13:37.138448700Z",
     "start_time": "2024-03-28T02:13:37.134436400Z"
    }
   },
   "id": "d5e765fd499b4730",
   "execution_count": 2
  },
  {
   "cell_type": "code",
   "outputs": [],
   "source": [
    "# Подготовка данных (пример)\n",
    "X = pd.read_csv(r'C:\\PycharmProjects\\ETS_Autopilot\\dataset_for_wheel_nn\\X_train_128_128.csv')\n",
    "y = pd.read_csv(r'C:\\PycharmProjects\\ETS_Autopilot\\dataset_for_wheel_nn\\y_train_128_128.csv')"
   ],
   "metadata": {
    "collapsed": false,
    "ExecuteTime": {
     "end_time": "2024-03-28T02:13:44.288365800Z",
     "start_time": "2024-03-28T02:13:38.215485500Z"
    }
   },
   "id": "de1f15cf4e802685",
   "execution_count": 3
  },
  {
   "cell_type": "code",
   "outputs": [
    {
     "data": {
      "text/plain": "0        0.0\n1        0.0\n2        0.0\n3        0.0\n4        0.0\n        ... \n16379    0.0\n16380    0.0\n16381    0.0\n16382    0.0\n16383    0.0\nName: 0, Length: 16384, dtype: float64"
     },
     "execution_count": 4,
     "metadata": {},
     "output_type": "execute_result"
    }
   ],
   "source": [
    "X.iloc[0]"
   ],
   "metadata": {
    "collapsed": false,
    "ExecuteTime": {
     "end_time": "2024-03-28T02:13:44.301829400Z",
     "start_time": "2024-03-28T02:13:44.282852300Z"
    }
   },
   "id": "31794407b1162547",
   "execution_count": 4
  },
  {
   "cell_type": "code",
   "outputs": [
    {
     "data": {
      "text/plain": "      value\n0 -0.013916\n1 -0.008545\n2 -0.007690\n3 -0.003662\n4 -0.003662",
      "text/html": "<div>\n<style scoped>\n    .dataframe tbody tr th:only-of-type {\n        vertical-align: middle;\n    }\n\n    .dataframe tbody tr th {\n        vertical-align: top;\n    }\n\n    .dataframe thead th {\n        text-align: right;\n    }\n</style>\n<table border=\"1\" class=\"dataframe\">\n  <thead>\n    <tr style=\"text-align: right;\">\n      <th></th>\n      <th>value</th>\n    </tr>\n  </thead>\n  <tbody>\n    <tr>\n      <th>0</th>\n      <td>-0.013916</td>\n    </tr>\n    <tr>\n      <th>1</th>\n      <td>-0.008545</td>\n    </tr>\n    <tr>\n      <th>2</th>\n      <td>-0.007690</td>\n    </tr>\n    <tr>\n      <th>3</th>\n      <td>-0.003662</td>\n    </tr>\n    <tr>\n      <th>4</th>\n      <td>-0.003662</td>\n    </tr>\n  </tbody>\n</table>\n</div>"
     },
     "execution_count": 5,
     "metadata": {},
     "output_type": "execute_result"
    }
   ],
   "source": [
    "y.head(5)"
   ],
   "metadata": {
    "collapsed": false,
    "ExecuteTime": {
     "end_time": "2024-03-28T02:13:45.033012600Z",
     "start_time": "2024-03-28T02:13:45.024107100Z"
    }
   },
   "id": "bc8bc1dd5565c6f1",
   "execution_count": 5
  },
  {
   "cell_type": "code",
   "outputs": [],
   "source": [
    "Xi = torch.tensor(X.values, dtype=torch.float32).cuda() \n",
    "yi = torch.tensor(y.values, dtype=torch.float32).cuda() "
   ],
   "metadata": {
    "collapsed": false,
    "ExecuteTime": {
     "end_time": "2024-03-28T02:13:47.716077200Z",
     "start_time": "2024-03-28T02:13:47.556002400Z"
    }
   },
   "id": "3e96684ca0f0faa",
   "execution_count": 6
  },
  {
   "cell_type": "code",
   "outputs": [],
   "source": [
    "X_tensor = Xi\n",
    "y_tensor = yi"
   ],
   "metadata": {
    "collapsed": false,
    "ExecuteTime": {
     "end_time": "2024-03-28T02:13:48.152410700Z",
     "start_time": "2024-03-28T02:13:48.141414400Z"
    }
   },
   "id": "a8a56847c412ea29",
   "execution_count": 7
  },
  {
   "cell_type": "code",
   "outputs": [
    {
     "data": {
      "text/plain": "16384"
     },
     "execution_count": 8,
     "metadata": {},
     "output_type": "execute_result"
    }
   ],
   "source": [
    "len(Xi[0])"
   ],
   "metadata": {
    "collapsed": false,
    "ExecuteTime": {
     "end_time": "2024-03-28T02:13:48.939402500Z",
     "start_time": "2024-03-28T02:13:48.903505500Z"
    }
   },
   "id": "74309187c2c53f11",
   "execution_count": 8
  },
  {
   "cell_type": "code",
   "outputs": [
    {
     "data": {
      "text/plain": "tensor([-0.0085], device='cuda:0')"
     },
     "execution_count": 9,
     "metadata": {},
     "output_type": "execute_result"
    }
   ],
   "source": [
    "yi[1]"
   ],
   "metadata": {
    "collapsed": false,
    "ExecuteTime": {
     "end_time": "2024-03-28T02:13:50.002502100Z",
     "start_time": "2024-03-28T02:13:49.993473100Z"
    }
   },
   "id": "74341ecd7eac0f69",
   "execution_count": 9
  },
  {
   "cell_type": "code",
   "outputs": [
    {
     "name": "stdout",
     "output_type": "stream",
     "text": [
      "Epoch [1/4], Loss: 0.00997986793780339\n",
      "Epoch [2/4], Loss: 0.009956634291055656\n",
      "Epoch [3/4], Loss: 0.012837211974677725\n",
      "Epoch [4/4], Loss: 0.009951265561525804\n",
      "Обучение завершено\n"
     ]
    }
   ],
   "source": [
    "model = FullyConnectedNN().cuda()\n",
    "\n",
    "# Определение функции потерь и оптимизатора\n",
    "criterion = nn.MSELoss()  # Функция потерь для регрессии\n",
    "optimizer = optim.Adam(model.parameters(), lr=0.000001)  # Оптимизатор Adam с learning rate 0.001\n",
    "\n",
    "# Обучение модели\n",
    "num_epochs = 4\n",
    "for epoch in range(num_epochs):\n",
    "    running_loss = 0.0\n",
    "    for i in range(len(X_tensor)):\n",
    "        inputs = X_tensor[i]\n",
    "        labels = torch.tensor([y_tensor[i].item()], dtype=torch.float32).cuda()\n",
    "\n",
    "        # Обнуление градиентов параметров\n",
    "        optimizer.zero_grad()\n",
    "\n",
    "        # Прямой проход\n",
    "        outputs = model(inputs)\n",
    "\n",
    "        # Рассчет функции потерь\n",
    "        loss = criterion(outputs, labels)\n",
    "\n",
    "        # Обратный проход и оптимизация\n",
    "        loss.backward()\n",
    "        optimizer.step()\n",
    "\n",
    "        running_loss += loss.item()\n",
    "\n",
    "    print(f\"Epoch [{epoch + 1}/{num_epochs}], Loss: {running_loss / len(X_tensor)}\")\n",
    "\n",
    "print(\"Обучение завершено\")"
   ],
   "metadata": {
    "collapsed": false,
    "ExecuteTime": {
     "end_time": "2024-03-28T02:14:11.807460100Z",
     "start_time": "2024-03-28T02:13:57.751217500Z"
    }
   },
   "id": "5cc0a9be9d333f79",
   "execution_count": 10
  },
  {
   "cell_type": "code",
   "outputs": [
    {
     "data": {
      "text/plain": "tensor([0.0858], device='cuda:0', grad_fn=<TanhBackward0>)"
     },
     "execution_count": 11,
     "metadata": {},
     "output_type": "execute_result"
    }
   ],
   "source": [
    "model.forward(X_tensor[400])"
   ],
   "metadata": {
    "collapsed": false,
    "ExecuteTime": {
     "end_time": "2024-03-28T02:14:24.508266700Z",
     "start_time": "2024-03-28T02:14:24.501768600Z"
    }
   },
   "id": "539cc20095457471",
   "execution_count": 11
  },
  {
   "cell_type": "code",
   "outputs": [
    {
     "data": {
      "text/plain": "tensor([0.0857], device='cuda:0', grad_fn=<TanhBackward0>)"
     },
     "execution_count": 12,
     "metadata": {},
     "output_type": "execute_result"
    }
   ],
   "source": [
    "model.forward(X_tensor[3])"
   ],
   "metadata": {
    "collapsed": false,
    "ExecuteTime": {
     "end_time": "2024-03-28T02:14:25.787683100Z",
     "start_time": "2024-03-28T02:14:25.782154400Z"
    }
   },
   "id": "6658816bd164fa4d",
   "execution_count": 12
  },
  {
   "cell_type": "code",
   "outputs": [],
   "source": [
    "torch.save(model.state_dict(), 'C:\\PycharmProjects\\ETS_Autopilot\\dataset_for_wheel_nn\\weight_128_128.pth')"
   ],
   "metadata": {
    "collapsed": false,
    "ExecuteTime": {
     "end_time": "2024-03-28T02:14:44.781270200Z",
     "start_time": "2024-03-28T02:14:44.732518700Z"
    }
   },
   "id": "9e5bd200e9a4f658",
   "execution_count": 13
  },
  {
   "cell_type": "code",
   "outputs": [],
   "source": [],
   "metadata": {
    "collapsed": false
   },
   "id": "8665a2387bb8023f"
  }
 ],
 "metadata": {
  "kernelspec": {
   "display_name": "Python 3",
   "language": "python",
   "name": "python3"
  },
  "language_info": {
   "codemirror_mode": {
    "name": "ipython",
    "version": 2
   },
   "file_extension": ".py",
   "mimetype": "text/x-python",
   "name": "python",
   "nbconvert_exporter": "python",
   "pygments_lexer": "ipython2",
   "version": "2.7.6"
  }
 },
 "nbformat": 4,
 "nbformat_minor": 5
}
