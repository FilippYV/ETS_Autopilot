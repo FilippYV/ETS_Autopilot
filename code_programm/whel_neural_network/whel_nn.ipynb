{
 "cells": [
  {
   "cell_type": "code",
   "execution_count": 83,
   "id": "initial_id",
   "metadata": {
    "collapsed": true,
    "ExecuteTime": {
     "end_time": "2024-03-27T01:02:22.877643600Z",
     "start_time": "2024-03-27T01:02:22.870647300Z"
    }
   },
   "outputs": [],
   "source": [
    "import torch\n",
    "import torch.nn as nn\n",
    "import torch.optim as optim\n",
    "from torchvision import datasets, transforms\n",
    "import pandas as pd"
   ]
  },
  {
   "cell_type": "code",
   "outputs": [],
   "source": [
    "class FullyConnectedNN(nn.Module):\n",
    "    def __init__(self, input_size, hidden_size, output_size):\n",
    "        super(FullyConnectedNN, self).__init__()\n",
    "        self.fc1 = nn.Linear(input_size, hidden_size)\n",
    "        self.relu = nn.Tanh()\n",
    "        self.fc2 = nn.Linear(hidden_size, output_size)\n",
    "        self.tanh = nn.Tanh()\n",
    "    \n",
    "    def forward(self, x):\n",
    "        out = self.fc1(x)\n",
    "        out = self.tanh(out)\n",
    "        out = self.fc2(out)\n",
    "        out = self.tanh(out)\n",
    "        return out\n",
    "\n",
    "# Подготовка данных для обучения\n",
    "input_size = 64 * 64  # Размер изображения\n",
    "hidden_size = 512  # Количество нейронов в скрытом слое\n",
    "output_size = 1  # Размер выходного слоя"
   ],
   "metadata": {
    "collapsed": false,
    "ExecuteTime": {
     "end_time": "2024-03-27T01:02:52.019818500Z",
     "start_time": "2024-03-27T01:02:52.014819700Z"
    }
   },
   "id": "d5e765fd499b4730",
   "execution_count": 87
  },
  {
   "cell_type": "code",
   "outputs": [
    {
     "name": "stderr",
     "output_type": "stream",
     "text": [
      "C:\\PycharmProjects\\ETS_Autopilot\\venv_3_11\\Lib\\site-packages\\torch\\nn\\modules\\loss.py:535: UserWarning: Using a target size (torch.Size([])) that is different to the input size (torch.Size([1])). This will likely lead to incorrect results due to broadcasting. Please ensure they have the same size.\n",
      "  return F.mse_loss(input, target, reduction=self.reduction)\n"
     ]
    },
    {
     "name": "stdout",
     "output_type": "stream",
     "text": [
      "Epoch [1/2], Loss: 0.0033439287721135002\n",
      "Epoch [2/2], Loss: 0.0028652651049211595\n",
      "Обучение завершено\n"
     ]
    }
   ],
   "source": [
    "# Подготовка данных (пример)\n",
    "X = pd.read_csv(r'C:\\PycharmProjects\\ETS_Autopilot\\dataset_for_wheel_nn\\X_train_2.csv')\n",
    "y = pd.read_csv(r'C:\\PycharmProjects\\ETS_Autopilot\\dataset_for_wheel_nn\\y_train_2.csv')\n",
    "# Предполагается, что данные содержат признаки в столбцах и целевую переменную в последнем столбце\n",
    "\n",
    "# Разделение данных на признаки и целевую переменную\n",
    "X = X.iloc[:, :-1].values\n",
    "y = y.iloc[:, -1].values  # Если нужно преобразовать вектор в столбец\n",
    "\n",
    "# Преобразование в тензоры и перемещение на GPU\n",
    "X_tensor = torch.tensor(X, dtype=torch.float32).cuda()\n",
    "y_tensor = torch.tensor(y, dtype=torch.float32).cuda()\n",
    "\n",
    "# Определение модели и перемещение на GPU\n",
    "model = FullyConnectedNN(input_size, hidden_size, output_size).cuda()\n",
    "\n",
    "# Определение функции потерь и оптимизатора\n",
    "criterion = nn.MSELoss()  # Функция потерь для регрессии\n",
    "optimizer = optim.Adam(model.parameters(), lr=0.0001)  # Оптимизатор Adam с learning rate 0.001\n",
    "\n",
    "# Обучение модели\n",
    "num_epochs = 2\n",
    "for epoch in range(num_epochs):\n",
    "    running_loss = 0.0\n",
    "    for i in range(len(X_tensor)):\n",
    "        inputs = X_tensor[i]\n",
    "        labels = y_tensor[i]\n",
    "        \n",
    "        # Обнуление градиентов параметров\n",
    "        optimizer.zero_grad()\n",
    "        \n",
    "        # Прямой проход\n",
    "        outputs = model(inputs)\n",
    "        \n",
    "        # Рассчет функции потерь\n",
    "        loss = criterion(outputs, labels)\n",
    "        \n",
    "        # Обратный проход и оптимизация\n",
    "        loss.backward()\n",
    "        optimizer.step()\n",
    "        \n",
    "        running_loss += loss.item()\n",
    "    \n",
    "    print(f\"Epoch [{epoch+1}/{num_epochs}], Loss: {running_loss/len(X_tensor)}\")\n",
    "\n",
    "print(\"Обучение завершено\")"
   ],
   "metadata": {
    "collapsed": false,
    "ExecuteTime": {
     "end_time": "2024-03-27T01:19:52.325843600Z",
     "start_time": "2024-03-27T01:19:50.999344600Z"
    }
   },
   "id": "5cc0a9be9d333f79",
   "execution_count": 93
  },
  {
   "cell_type": "code",
   "outputs": [
    {
     "data": {
      "text/plain": "tensor([0.0151], device='cuda:0', grad_fn=<TanhBackward0>)"
     },
     "execution_count": 95,
     "metadata": {},
     "output_type": "execute_result"
    }
   ],
   "source": [
    "model.forward(X_tensor[230])"
   ],
   "metadata": {
    "collapsed": false,
    "ExecuteTime": {
     "end_time": "2024-03-27T01:20:02.256236800Z",
     "start_time": "2024-03-27T01:20:02.241264500Z"
    }
   },
   "id": "539cc20095457471",
   "execution_count": 95
  },
  {
   "cell_type": "code",
   "outputs": [],
   "source": [
    "model.forward(X_tensor[620])"
   ],
   "metadata": {
    "collapsed": false,
    "ExecuteTime": {
     "start_time": "2024-03-27T01:19:58.175032700Z"
    }
   },
   "id": "6658816bd164fa4d",
   "execution_count": null
  },
  {
   "cell_type": "code",
   "outputs": [],
   "source": [
    "torch.save(model.state_dict(), 'C:\\PycharmProjects\\ETS_Autopilot\\dataset_for_wheel_nn\\weight_1.pth')"
   ],
   "metadata": {
    "collapsed": false,
    "ExecuteTime": {
     "end_time": "2024-03-27T01:21:08.429740900Z",
     "start_time": "2024-03-27T01:21:08.415224400Z"
    }
   },
   "id": "9e5bd200e9a4f658",
   "execution_count": 96
  },
  {
   "cell_type": "code",
   "outputs": [],
   "source": [
    "import vgamepad as vg\n",
    "import time\n",
    "\n",
    "# Инициализация виртуального геймпада\n",
    "gamepad = vg.VX360Gamepad()\n",
    "\n",
    "# Функция для установки значения оси \"руля\"\n",
    "def set_wheel_axis(value):\n",
    "    gamepad.axis(vg.XUSB_AXIS.RX, value)\n",
    "    gamepad.update()\n",
    "\n",
    "set_wheel_axis(50)\n",
    "\n",
    "\n",
    "gamepad.stop()"
   ],
   "metadata": {
    "collapsed": false
   },
   "id": "ff0af49417573754"
  }
 ],
 "metadata": {
  "kernelspec": {
   "display_name": "Python 3",
   "language": "python",
   "name": "python3"
  },
  "language_info": {
   "codemirror_mode": {
    "name": "ipython",
    "version": 2
   },
   "file_extension": ".py",
   "mimetype": "text/x-python",
   "name": "python",
   "nbconvert_exporter": "python",
   "pygments_lexer": "ipython2",
   "version": "2.7.6"
  }
 },
 "nbformat": 4,
 "nbformat_minor": 5
}
