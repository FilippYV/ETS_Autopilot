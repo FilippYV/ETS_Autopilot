{
 "cells": [
  {
   "cell_type": "code",
   "execution_count": 4,
   "id": "initial_id",
   "metadata": {
    "collapsed": true,
    "ExecuteTime": {
     "end_time": "2024-03-28T01:51:53.996316Z",
     "start_time": "2024-03-28T01:51:53.963317Z"
    }
   },
   "outputs": [],
   "source": [
    "import vgamepad as vg\n",
    "import time\n",
    "\n",
    "# Инициализация виртуального геймпада\n",
    "gamepad = vg.VX360Gamepad()"
   ]
  },
  {
   "cell_type": "code",
   "outputs": [],
   "source": [
    "gamepad.left_joystick_float(x_value_float=round(0.1, 2), y_value_float=0.0)\n",
    "gamepad.update()"
   ],
   "metadata": {
    "collapsed": false,
    "ExecuteTime": {
     "end_time": "2024-03-28T01:52:13.807564300Z",
     "start_time": "2024-03-28T01:52:13.803553200Z"
    }
   },
   "id": "7f6dbeb698cd08ed",
   "execution_count": 7
  },
  {
   "cell_type": "code",
   "outputs": [],
   "source": [],
   "metadata": {
    "collapsed": false
   },
   "id": "a889cd8711b9a186"
  }
 ],
 "metadata": {
  "kernelspec": {
   "display_name": "Python 3",
   "language": "python",
   "name": "python3"
  },
  "language_info": {
   "codemirror_mode": {
    "name": "ipython",
    "version": 2
   },
   "file_extension": ".py",
   "mimetype": "text/x-python",
   "name": "python",
   "nbconvert_exporter": "python",
   "pygments_lexer": "ipython2",
   "version": "2.7.6"
  }
 },
 "nbformat": 4,
 "nbformat_minor": 5
}
